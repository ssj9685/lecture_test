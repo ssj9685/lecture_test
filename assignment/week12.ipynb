{
 "cells": [
  {
   "cell_type": "code",
   "execution_count": 20,
   "metadata": {},
   "outputs": [],
   "source": [
    "from keras.datasets import mnist\n",
    "from keras.models import Sequential\n",
    "from keras.layers import Dense, Dropout, Flatten\n",
    "from keras.layers.convolutional import Conv2D, MaxPooling2D"
   ]
  },
  {
   "cell_type": "code",
   "execution_count": 21,
   "metadata": {},
   "outputs": [
    {
     "data": {
      "image/png": "[encoded data removed]",
      "text/plain": [
       "<Figure size 432x72 with 36 Axes>"
      ]
     },
     "metadata": {
      "needs_background": "light"
     },
     "output_type": "display_data"
    }
   ],
   "source": [
    "mnist = keras.datasets.mnist\n",
    "(X_train0,y_train0),(X_test0,y_test0)=mnist.load_data()\n",
    "import matplotlib.pylab as plt\n",
    "plt.figure(figsize=(6,1))\n",
    "for i in range(36):\n",
    "    plt.subplot(3,12,i+1)\n",
    "    plt.imshow(X_train0[i],cmap=\"gray\")\n",
    "    plt.axis(\"off\")\n",
    "plt.show()"
   ]
  },
  {
   "cell_type": "code",
   "execution_count": 22,
   "metadata": {},
   "outputs": [
    {
     "name": "stdout",
     "output_type": "stream",
     "text": [
      "x_train shape: (60000, 28, 28, 1)\n",
      "60000 train samples\n",
      "10000 test samples\n"
     ]
    }
   ],
   "source": [
    "img_rows=28\n",
    "img_cols=28\n",
    "(x_train,y_train),(x_test,y_test)=keras.datasets.mnist.load_data()\n",
    "\n",
    "input_shape=(img_rows,img_cols,1)\n",
    "x_train=x_train.reshape(x_train.shape[0],img_rows,img_cols,1)\n",
    "x_test=x_test.reshape(x_test.shape[0],img_rows,img_cols,1)\n",
    "x_train = x_train.astype('float32')/255.\n",
    "x_test = x_test.astype('float32')/255.\n",
    "\n",
    "print('x_train shape:',x_train.shape)\n",
    "print(x_train.shape[0],'train samples')\n",
    "print(x_test.shape[0],'test samples')\n",
    "\n",
    "batch_size=128\n",
    "num_classes=10\n",
    "epochs=12\n",
    "\n",
    "y_train=keras.utils.to_categorical(y_train,num_classes)\n",
    "y_test=keras.utils.to_categorical(y_test,num_classes)"
   ]
  },
  {
   "cell_type": "code",
   "execution_count": 25,
   "metadata": {},
   "outputs": [
    {
     "name": "stdout",
     "output_type": "stream",
     "text": [
      "Model: \"sequential_3\"\n",
      "_________________________________________________________________\n",
      "Layer (type)                 Output Shape              Param #   \n",
      "=================================================================\n",
      "conv2d_3 (Conv2D)            (None, 28, 28, 32)        832       \n",
      "_________________________________________________________________\n",
      "max_pooling2d_3 (MaxPooling2 (None, 14, 14, 32)        0         \n",
      "_________________________________________________________________\n",
      "conv2d_4 (Conv2D)            (None, 14, 14, 64)        8256      \n",
      "_________________________________________________________________\n",
      "max_pooling2d_4 (MaxPooling2 (None, 7, 7, 64)          0         \n",
      "_________________________________________________________________\n",
      "dropout_3 (Dropout)          (None, 7, 7, 64)          0         \n",
      "_________________________________________________________________\n",
      "flatten_2 (Flatten)          (None, 3136)              0         \n",
      "_________________________________________________________________\n",
      "dense_3 (Dense)              (None, 1000)              3137000   \n",
      "_________________________________________________________________\n",
      "dropout_4 (Dropout)          (None, 1000)              0         \n",
      "_________________________________________________________________\n",
      "dense_4 (Dense)              (None, 10)                10010     \n",
      "=================================================================\n",
      "Total params: 3,156,098\n",
      "Trainable params: 3,156,098\n",
      "Non-trainable params: 0\n",
      "_________________________________________________________________\n",
      "Train on 60000 samples, validate on 10000 samples\n",
      "Epoch 1/12\n",
      "60000/60000 [==============================] - 81s 1ms/step - loss: 0.1897 - accuracy: 0.9421 - val_loss: 0.0485 - val_accuracy: 0.9834\n",
      "Epoch 2/12\n",
      "60000/60000 [==============================] - 77s 1ms/step - loss: 0.0602 - accuracy: 0.9815 - val_loss: 0.0297 - val_accuracy: 0.9906\n",
      "Epoch 3/12\n",
      "60000/60000 [==============================] - 84s 1ms/step - loss: 0.0444 - accuracy: 0.9865 - val_loss: 0.0315 - val_accuracy: 0.9886\n",
      "Epoch 4/12\n",
      "60000/60000 [==============================] - 79s 1ms/step - loss: 0.0368 - accuracy: 0.9882 - val_loss: 0.0269 - val_accuracy: 0.9900\n",
      "Epoch 5/12\n",
      "60000/60000 [==============================] - 78s 1ms/step - loss: 0.0315 - accuracy: 0.9901 - val_loss: 0.0257 - val_accuracy: 0.9920\n",
      "Epoch 6/12\n",
      "60000/60000 [==============================] - 78s 1ms/step - loss: 0.0271 - accuracy: 0.9915 - val_loss: 0.0244 - val_accuracy: 0.9930\n",
      "Epoch 7/12\n",
      "60000/60000 [==============================] - 75s 1ms/step - loss: 0.0218 - accuracy: 0.9932 - val_loss: 0.0227 - val_accuracy: 0.9929\n",
      "Epoch 8/12\n",
      "60000/60000 [==============================] - 69s 1ms/step - loss: 0.0203 - accuracy: 0.9931 - val_loss: 0.0204 - val_accuracy: 0.9930\n",
      "Epoch 9/12\n",
      "60000/60000 [==============================] - 68s 1ms/step - loss: 0.0194 - accuracy: 0.9931 - val_loss: 0.0179 - val_accuracy: 0.9948\n",
      "Epoch 10/12\n",
      "60000/60000 [==============================] - 68s 1ms/step - loss: 0.0164 - accuracy: 0.9947 - val_loss: 0.0204 - val_accuracy: 0.9941\n",
      "Epoch 11/12\n",
      "60000/60000 [==============================] - 68s 1ms/step - loss: 0.0154 - accuracy: 0.9948 - val_loss: 0.0236 - val_accuracy: 0.9935\n",
      "Epoch 12/12\n",
      "60000/60000 [==============================] - 68s 1ms/step - loss: 0.0140 - accuracy: 0.9955 - val_loss: 0.0211 - val_accuracy: 0.9936\n"
     ]
    }
   ],
   "source": [
    "model=Sequential()\n",
    "model.add(Conv2D(32,kernel_size=(5,5),strides=(1,1),padding='same',activation='relu',input_shape=input_shape))\n",
    "model.add(MaxPooling2D(pool_size=(2,2),strides=(2,2)))\n",
    "model.add(Conv2D(64,(2,2),activation='relu',padding='same'))\n",
    "model.add(MaxPooling2D(pool_size=(2,2)))\n",
    "model.add(Dropout(0.25))\n",
    "model.add(Flatten())\n",
    "model.add(Dense(1000,activation='relu'))\n",
    "model.add(Dropout(0.5))\n",
    "model.add(Dense(num_classes,activation='softmax'))\n",
    "model.summary()\n",
    "model.compile(loss='categorical_crossentropy',optimizer=\"adam\",metrics=['accuracy'])\n",
    "hist = model.fit(x_train,y_train,batch_size=batch_size,epochs=epochs,verbose=1,validation_data=(x_test,y_test))"
   ]
  },
  {
   "cell_type": "code",
   "execution_count": 26,
   "metadata": {},
   "outputs": [
    {
     "name": "stdout",
     "output_type": "stream",
     "text": [
      "Test loss:  0.02109336081832316\n",
      "Test accuracy:  0.9936000108718872\n"
     ]
    },
    {
     "data": {
      "image/png": "[encoded data removed]",
      "text/plain": [
       "<Figure size 432x288 with 1 Axes>"
      ]
     },
     "metadata": {
      "needs_background": "light"
     },
     "output_type": "display_data"
    }
   ],
   "source": [
    "score=model.evaluate(x_test,y_test,verbose=0)\n",
    "print(\"Test loss: \",score[0])\n",
    "print(\"Test accuracy: \",score[1])\n",
    "\n",
    "import numpy as np\n",
    "y_vloss = hist.history['val_loss']\n",
    "y_loss = hist.history['loss']\n",
    "x_len=np.arange(len(y_loss))\n",
    "plt.plot(x_len,y_vloss,marker='.',c=\"red\",label=\"Testset_loss\")\n",
    "plt.plot(x_len,y_loss,marker='.',c=\"blue\",label=\"Trainset_loss\")\n",
    "plt.legend(loc='upper right')\n",
    "plt.grid()\n",
    "plt.xlabel('epoch')\n",
    "plt.ylabel('loss')\n",
    "plt.show()"
   ]
  },
  {
   "cell_type": "code",
   "execution_count": 30,
   "metadata": {},
   "outputs": [
    {
     "data": {
      "image/png": "[encoded data removed]",
      "text/plain": [
       "<Figure size 432x288 with 1 Axes>"
      ]
     },
     "metadata": {
      "needs_background": "light"
     },
     "output_type": "display_data"
    },
    {
     "name": "stdout",
     "output_type": "stream",
     "text": [
      "The Answer is  [7]\n"
     ]
    }
   ],
   "source": [
    "n = 0\n",
    "plt.imshow(x_test[n].reshape(28,28),cmap='Greys',interpolation='nearest')\n",
    "plt.show()\n",
    "print(\"The Answer is \",model.predict_classes(x_test[n].reshape((1,28,28,1))))"
   ]
  },
  {
   "cell_type": "code",
   "execution_count": null,
   "metadata": {},
   "outputs": [],
   "source": []
  }
 ],
 "metadata": {
  "kernelspec": {
   "display_name": "Python 3",
   "language": "python",
   "name": "python3"
  },
  "language_info": {
   "codemirror_mode": {
    "name": "ipython",
    "version": 3
   },
   "file_extension": ".py",
   "mimetype": "text/x-python",
   "name": "python",
   "nbconvert_exporter": "python",
   "pygments_lexer": "ipython3",
   "version": "3.7.7"
  }
 },
 "nbformat": 4,
 "nbformat_minor": 4
}
